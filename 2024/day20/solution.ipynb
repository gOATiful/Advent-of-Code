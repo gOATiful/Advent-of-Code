{
 "cells": [
  {
   "cell_type": "code",
   "execution_count": 1,
   "metadata": {},
   "outputs": [],
   "source": [
    "def load_input(path: str) -> list[str]:\n",
    "    with open(path) as infile:\n",
    "        return infile.read().splitlines()\n"
   ]
  },
  {
   "cell_type": "markdown",
   "metadata": {},
   "source": [
    "# Part 1"
   ]
  },
  {
   "cell_type": "code",
   "execution_count": null,
   "metadata": {},
   "outputs": [
    {
     "data": {
      "text/plain": [
       "[['#', '#', '#', '#', '#', '#', '#', '#', '#', '#', '#', '#', '#', '#', '#'],\n",
       " ['#', '.', '.', '.', '#', '.', '.', '.', '#', '.', '.', '.', '.', '.', '#'],\n",
       " ['#', '.', '#', '.', '#', '.', '#', '.', '#', '.', '#', '#', '#', '.', '#'],\n",
       " ['#', 'S', '#', '.', '.', '.', '#', '.', '#', '.', '#', '.', '.', '.', '#'],\n",
       " ['#', '#', '#', '#', '#', '#', '#', '.', '#', '.', '#', '.', '#', '#', '#'],\n",
       " ['#', '#', '#', '#', '#', '#', '#', '.', '#', '.', '#', '.', '.', '.', '#'],\n",
       " ['#', '#', '#', '#', '#', '#', '#', '.', '#', '.', '#', '#', '#', '.', '#'],\n",
       " ['#', '#', '#', '.', '.', 'E', '#', '.', '.', '.', '#', '.', '.', '.', '#'],\n",
       " ['#', '#', '#', '.', '#', '#', '#', '#', '#', '#', '#', '.', '#', '#', '#'],\n",
       " ['#', '.', '.', '.', '#', '#', '#', '.', '.', '.', '#', '.', '.', '.', '#'],\n",
       " ['#', '.', '#', '#', '#', '#', '#', '.', '#', '.', '#', '#', '#', '.', '#'],\n",
       " ['#', '.', '#', '.', '.', '.', '#', '.', '#', '.', '#', '.', '.', '.', '#'],\n",
       " ['#', '.', '#', '.', '#', '.', '#', '.', '#', '.', '#', '.', '#', '#', '#'],\n",
       " ['#', '.', '.', '.', '#', '.', '.', '.', '#', '.', '.', '.', '#', '#', '#'],\n",
       " ['#', '#', '#', '#', '#', '#', '#', '#', '#', '#', '#', '#', '#', '#', '#']]"
      ]
     },
     "metadata": {},
     "output_type": "display_data"
    },
    {
     "data": {
      "text/plain": [
       "85"
      ]
     },
     "execution_count": 8,
     "metadata": {},
     "output_type": "execute_result"
    }
   ],
   "source": [
    "puzzle_input = load_input(\"example.txt\")\n",
    "# puzzle_input = load_input(\"input.txt\")\n",
    "\n",
    "race_track = [[x for x in y] for y in puzzle_input]\n",
    "\n",
    "display(race_track)\n",
    "\n",
    "\n",
    "def find_position_of(search_node, race_track):\n",
    "    for y in range(len(race_track)):\n",
    "        for x in range(len(race_track[0])):\n",
    "            if race_track[y][x] == search_node:\n",
    "                return (x, y)\n",
    "    return None\n",
    "\n",
    "\n",
    "def find_track(race_track, pos, end, track=[]):\n",
    "    dirs = [(1, 0),(-1, 0),(0, 1),(0, -1)]\n",
    "    track.append(pos) # add current segment\n",
    "    if pos == end:\n",
    "        return track\n",
    "    for d in dirs:\n",
    "        next_x = pos[0] + d[0]\n",
    "        next_y = pos[1] + d[1]\n",
    "        # boundary checks:\n",
    "        if next_x < 0 or next_x >= len(race_track[0]):\n",
    "            continue\n",
    "        if next_y < 0 or next_y >= len(race_track):\n",
    "            continue\n",
    "        if (next_x, next_y) in track: # is previous node\n",
    "            continue\n",
    "        if race_track[next_y][next_x] == \"#\": # wall detected\n",
    "            continue\n",
    "        return find_track(race_track, (next_x, next_y), end, track)\n",
    "    \n",
    "            \n",
    "    \n",
    "\n",
    "\n",
    "START = find_position_of(\"S\", race_track)\n",
    "END = find_position_of(\"E\", race_track)\n",
    "\n",
    "track = find_track(race_track, START, END)\n",
    "len(track)"
   ]
  },
  {
   "cell_type": "markdown",
   "metadata": {},
   "source": [
    "# Part 2"
   ]
  },
  {
   "cell_type": "code",
   "execution_count": null,
   "metadata": {},
   "outputs": [],
   "source": [
    "puzzle_input = load_input(\"example.txt\")\n",
    "# puzzle_input = load_input(\"input.txt\")\n",
    "\n"
   ]
  }
 ],
 "metadata": {
  "kernelspec": {
   "display_name": "env",
   "language": "python",
   "name": "python3"
  },
  "language_info": {
   "codemirror_mode": {
    "name": "ipython",
    "version": 3
   },
   "file_extension": ".py",
   "mimetype": "text/x-python",
   "name": "python",
   "nbconvert_exporter": "python",
   "pygments_lexer": "ipython3",
   "version": "3.11.9"
  }
 },
 "nbformat": 4,
 "nbformat_minor": 2
}
